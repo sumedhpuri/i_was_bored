{
 "cells": [
  {
   "cell_type": "code",
   "execution_count": 11,
   "id": "72397ad4",
   "metadata": {},
   "outputs": [
    {
     "name": "stdout",
     "output_type": "stream",
     "text": [
      "[264.91225974 274.15862416 314.0908427  323.84756166 181.41177059\n",
      " 229.74779743 366.24107453 335.55522041 293.53696269 281.49788609]\n",
      "intercept of the multi dimensional line =  222.161657253427\n",
      "slope/coefficient for Square_feet feature =  0.1277142136595077\n",
      "slope/coefficient for Bedroom feature =  -36.2961664876731\n",
      "slope/coefficent for House_Age_Years feature =  -5.4321594357396386\n",
      "r_squared =  0.7938030739626369\n",
      "root mean squared error =  25.92705707804311\n"
     ]
    }
   ],
   "source": [
    "# Question 1: The Basics of Multiple Linear Regression 🏠\n",
    "# A real estate company wants to predict house prices based on more than just square footage. They believe the number of bedrooms and the age of the house are also important factors.\n",
    "\n",
    "# Dataset:\n",
    "\n",
    "# Python\n",
    "\n",
    "# import pandas as pd\n",
    "\n",
    "# data1 = {\n",
    "#     'Price_in_thousands': [245, 312, 279, 308, 199, 219, 405, 324, 319, 255],\n",
    "#     'Square_Feet': [1400, 1600, 1700, 1875, 1100, 1550, 2350, 2450, 1425, 1700],\n",
    "#     'Bedrooms': [3, 3, 3, 2, 2, 3, 4, 4, 2, 3],\n",
    "#     'House_Age_Years': [5, 8, 3, 12, 20, 15, 2, 10, 7, 9]\n",
    "# }\n",
    "# df1 = pd.DataFrame(data1)\n",
    "# Your Tasks:\n",
    "\n",
    "# Build the Model: Using scikit-learn, build a multiple linear regression model with Square_Feet, Bedrooms, and House_Age_Years as your features (X) to predict Price_in_thousands (Y).\n",
    "\n",
    "# Find the Equation: Print the model's intercept and the coefficients for each of the three features.\n",
    "\n",
    "# Interpret the Coefficients: Explain what each coefficient means in the context of this problem. For example, for the 'Bedrooms' coefficient, you would say: \"Holding all other features constant, for each additional bedroom, the price is expected to change by...\"\n",
    "\n",
    "# Evaluate Performance: Calculate the R-squared and the RMSE for your model. Does this model explain the variance in house prices well?\n",
    "\n",
    "import pandas as pd\n",
    "from sklearn.linear_model import LinearRegression\n",
    "from sklearn.metrics import r2_score, root_mean_squared_error\n",
    "import matplotlib.pyplot as plt\n",
    "\n",
    "data1 = {\n",
    "    'Price_in_thousands': [245, 312, 279, 308, 199, 219, 405, 324, 319, 255],\n",
    "    'Square_Feet': [1400, 1600, 1700, 1875, 1100, 1550, 2350, 2450, 1425, 1700],\n",
    "    'Bedrooms': [3, 3, 3, 2, 2, 3, 4, 4, 2, 3],\n",
    "    'House_Age_Years': [5, 8, 3, 12, 20, 15, 2, 10, 7, 9]\n",
    "}\n",
    "df = pd.DataFrame(data1)\n",
    "\n",
    "x = df[['Square_Feet','Bedrooms','House_Age_Years']]\n",
    "y = df['Price_in_thousands']\n",
    "\n",
    "model = LinearRegression()\n",
    "model.fit(x,y)\n",
    "\n",
    "y_predict = model.predict(x)\n",
    "print(y_predict)\n",
    "\n",
    "print(\"intercept of the multi dimensional line = \", model.intercept_)\n",
    "print(\"slope/coefficient for Square_feet feature = \", model.coef_[0])\n",
    "print(\"slope/coefficient for Bedroom feature = \", model.coef_[1])\n",
    "print(\"slope/coefficent for House_Age_Years feature = \", model.coef_[2])\n",
    "print(\"r_squared = \", r2_score(y,y_predict))\n",
    "print(\"root mean squared error = \", root_mean_squared_error(y,y_predict))\n",
    "\n",
    "#equation is as follows [y = 0.127*Square_feet - 36.296*Bedrooms - 5.432*House_Age_Years ± 25.927]\n",
    "#By looking at the equation and the coefficients we can say for every prediction of y we can say price is impacted 0.127 times by each square feet, -36.296 times for each bedroom and -5.432 times each year the house ages. In simple terms the price can be expected to change by 0.127 times the square feet area of the house, similar statement for other variables.\n",
    "#the R-Squared tells us that 79.38 percent of the variation in Price in thousands of the home can be explained combined by the 3 variables in consideration which are Square Feet, Bedrooms and House Age Years.\n",
    "#the root mean squared error is also low at 25.92 but it also means that the prediction in price of the house could be off by about 26000 dollars, which is a pretty huge gap. I feel the model needs to be trained again by eliminating potential outliers or optimizations."
   ]
  },
  {
   "cell_type": "code",
   "execution_count": null,
   "id": "722b85f3",
   "metadata": {},
   "outputs": [],
   "source": []
  }
 ],
 "metadata": {
  "kernelspec": {
   "display_name": "Python 3",
   "language": "python",
   "name": "python3"
  },
  "language_info": {
   "codemirror_mode": {
    "name": "ipython",
    "version": 3
   },
   "file_extension": ".py",
   "mimetype": "text/x-python",
   "name": "python",
   "nbconvert_exporter": "python",
   "pygments_lexer": "ipython3",
   "version": "3.13.7"
  }
 },
 "nbformat": 4,
 "nbformat_minor": 5
}
