{
 "cells": [
  {
   "cell_type": "code",
   "execution_count": null,
   "id": "50f66f0a",
   "metadata": {},
   "outputs": [],
   "source": [
    "# 1. Two Sum\n",
    "# Easy\n",
    "# Topics\n",
    "# premium lock icon\n",
    "# Companies\n",
    "# Hint\n",
    "# Given an array of integers nums and an integer target, return indices of the two numbers such that they add up to target.\n",
    "\n",
    "# You may assume that each input would have exactly one solution, and you may not use the same element twice.\n",
    "\n",
    "# You can return the answer in any order.\n",
    "\n",
    " \n",
    "\n",
    "# Example 1:\n",
    "\n",
    "# Input: nums = [2,7,11,15], target = 9\n",
    "# Output: [0,1]\n",
    "# Explanation: Because nums[0] + nums[1] == 9, we return [0, 1].\n",
    "# Example 2:\n",
    "\n",
    "# Input: nums = [3,2,4], target = 6\n",
    "# Output: [1,2]\n",
    "# Example 3:\n",
    "\n",
    "# Input: nums = [3,3], target = 6\n",
    "# Output: [0,1]\n",
    " \n",
    "\n",
    "# Constraints:\n",
    "\n",
    "# 2 <= nums.length <= 104\n",
    "# -109 <= nums[i] <= 109\n",
    "# -109 <= target <= 109\n",
    "# Only one valid answer exists.\n",
    " \n",
    "\n",
    "# Follow-up: Can you come up with an algorithm that is less than O(n2) time complexity?"
   ]
  },
  {
   "cell_type": "code",
   "execution_count": null,
   "id": "813aebbf",
   "metadata": {},
   "outputs": [
    {
     "ename": "_IncompleteInputError",
     "evalue": "incomplete input (2970647862.py, line 4)",
     "output_type": "error",
     "traceback": [
      "  \u001b[36mCell\u001b[39m\u001b[36m \u001b[39m\u001b[32mIn[3]\u001b[39m\u001b[32m, line 4\u001b[39m\n\u001b[31m    \u001b[39m\n    ^\n\u001b[31m_IncompleteInputError\u001b[39m\u001b[31m:\u001b[39m incomplete input\n"
     ]
    }
   ],
   "source": [
    "\n",
    "class Solution:\n",
    "    def twoSum(self, nums: List[int], target: int) -> List[int]:\n",
    "        \n",
    "          "
   ]
  },
  {
   "cell_type": "code",
   "execution_count": 4,
   "id": "6730c533",
   "metadata": {},
   "outputs": [
    {
     "name": "stdout",
     "output_type": "stream",
     "text": [
      "2\n",
      "7\n",
      "11\n",
      "15\n"
     ]
    }
   ],
   "source": [
    "nums = [2,7,11,15]\n",
    "for i in nums:\n",
    "    print(i)"
   ]
  }
 ],
 "metadata": {
  "kernelspec": {
   "display_name": "Python 3",
   "language": "python",
   "name": "python3"
  },
  "language_info": {
   "codemirror_mode": {
    "name": "ipython",
    "version": 3
   },
   "file_extension": ".py",
   "mimetype": "text/x-python",
   "name": "python",
   "nbconvert_exporter": "python",
   "pygments_lexer": "ipython3",
   "version": "3.13.7"
  }
 },
 "nbformat": 4,
 "nbformat_minor": 5
}
